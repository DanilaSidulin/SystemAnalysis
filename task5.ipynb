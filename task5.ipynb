{
  "nbformat": 4,
  "nbformat_minor": 0,
  "metadata": {
    "colab": {
      "provenance": [],
      "authorship_tag": "ABX9TyOPSYIwrLWvhZJjcFccImUx",
      "include_colab_link": true
    },
    "kernelspec": {
      "name": "python3",
      "display_name": "Python 3"
    },
    "language_info": {
      "name": "python"
    }
  },
  "cells": [
    {
      "cell_type": "markdown",
      "metadata": {
        "id": "view-in-github",
        "colab_type": "text"
      },
      "source": [
        "<a href=\"https://colab.research.google.com/github/DanilaSidulin/SystemAnalysis/blob/main/task5.ipynb\" target=\"_parent\"><img src=\"https://colab.research.google.com/assets/colab-badge.svg\" alt=\"Open In Colab\"/></a>"
      ]
    },
    {
      "cell_type": "code",
      "execution_count": 1,
      "metadata": {
        "id": "yDP8G8apOi5v"
      },
      "outputs": [],
      "source": [
        "import numpy as np\n",
        "import json\n",
        "\n",
        "def func(A):\n",
        "    max_elem = 0\n",
        "    for sublist in A:\n",
        "      for n in sublist:\n",
        "        max_elem = max(int(n), max_elem)\n",
        "\n",
        "    matrix = np.zeros(shape=(max_elem, max_elem))\n",
        "    low_set = set()\n",
        "    for i in range(len(A)):\n",
        "      current_set = A[i]\n",
        "      for number in current_set:\n",
        "        low_set.add(number)\n",
        "      for number in current_set:\n",
        "        for k in range(1, max_elem+1):\n",
        "            # print(number, k)\n",
        "            if k in low_set:\n",
        "              matrix[k-1, number-1] = 1\n",
        "    return matrix\n",
        "\n",
        "def str_to_list(A):\n",
        "  A = json.loads(A)\n",
        "  for i, item in enumerate(A):\n",
        "    if type(item) == list:\n",
        "      A[i] = []\n",
        "      for num in item:\n",
        "        A[i].append(int(num))\n",
        "    else:\n",
        "      A[i] = [int(item)]\n",
        "  return A\n",
        "\n",
        "def task(A, B):\n",
        "  A_list = str_to_list(A)\n",
        "  B_list = str_to_list(B)\n",
        "  res_A = func(A_list)\n",
        "  res_B = func(B_list)\n",
        "  res = res_A*res_B + res_A.T*res_B.T\n",
        "  p1, p2 = np.where(res==0)\n",
        "  pairs = np.concatenate([np.expand_dims(p1[0:int(p1.shape[0]/2)], -1), np.expand_dims(p2[0:int(p2.shape[0]/2)], -1)], axis=-1) + 1\n",
        "  pairs = pairs.tolist()\n",
        "  return json.dumps([[str(elem) for elem in pair] for pair in pairs])"
      ]
    }
  ]
}